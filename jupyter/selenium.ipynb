{
 "cells": [
  {
   "cell_type": "code",
   "execution_count": 1,
   "metadata": {},
   "outputs": [],
   "source": [
    "from selenium import webdriver\n",
    "from selenium.webdriver.chrome.service import Service\n",
    "from webdriver_manager.chrome import ChromeDriverManager\n",
    "from selenium.webdriver.chrome.options import Options\n",
    "from selenium.webdriver.common.by import By\n",
    "from selenium.webdriver.common.keys import Keys\n",
    "\n",
    "\n",
    "from selenium.webdriver.common.desired_capabilities import DesiredCapabilities\n",
    "from selenium.webdriver.support.ui import WebDriverWait\n",
    "from selenium.webdriver.support import expected_conditions as EC\n",
    "import os\n",
    "\n",
    "from browsermobproxy import Server\n",
    "import pandas as pd\n"
   ]
  },
  {
   "cell_type": "code",
   "execution_count": 2,
   "metadata": {},
   "outputs": [
    {
     "name": "stdout",
     "output_type": "stream",
     "text": [
      "LongPort | Research and trade with high-value investors\n"
     ]
    }
   ],
   "source": [
    "options = Options()\n",
    "options.add_argument('--headless')\n",
    "options.add_argument('--no-sandbox')\n",
    "options.add_argument('--disable-dev-shm-usage')\n",
    "driver = webdriver.Chrome(service=Service(ChromeDriverManager().install()), options=options)\n",
    "\n",
    "driver.get(\"https://longportapp.com/en/markets/\")\n",
    "\n",
    "print(driver.title)\n",
    "driver.page_source\n",
    "\n",
    "# driver.close()\n",
    "driver.quit()"
   ]
  },
  {
   "cell_type": "code",
   "execution_count": 3,
   "metadata": {},
   "outputs": [
    {
     "name": "stdout",
     "output_type": "stream",
     "text": [
      "LongPort | Research and trade with high-value investors\n"
     ]
    }
   ],
   "source": [
    "from selenium import webdriver\n",
    "from webdriver_manager.chrome import ChromeDriverManager\n",
    "\n",
    "import undetected_chromedriver as uc\n",
    "\n",
    "# options = Options()\n",
    "options = uc.ChromeOptions()\n",
    "options.add_argument('--headless')\n",
    "options.add_argument('--no-sandbox')\n",
    "options.add_argument('--disable-dev-shm-usage')\n",
    "options.add_argument(\"--auto-open-devtools-for-tabs\")\n",
    "driver = uc.Chrome(options=options)\n",
    "# driver = webdriver.Chrome(service=Service(ChromeDriverManager().install()), options=options)\n",
    "\n",
    "driver.get(\"https://longportapp.com/en/markets/\")\n",
    "print(driver.title)\n",
    "driver.quit()"
   ]
  },
  {
   "cell_type": "code",
   "execution_count": 9,
   "metadata": {},
   "outputs": [
    {
     "name": "stdout",
     "output_type": "stream",
     "text": [
      "Downloaded /home/disk1/finance_quant/efinance/downloaded_files/sensorsdata@1.16.10.min.js\n",
      "Downloaded /home/disk1/finance_quant/efinance/downloaded_files/iconfont.css\n",
      "Downloaded /home/disk1/finance_quant/efinance/downloaded_files/index.43ca75ce.js\n",
      "Downloaded /home/disk1/finance_quant/efinance/downloaded_files/webpage.30ef6644.css\n",
      "Downloaded /home/disk1/finance_quant/efinance/downloaded_files/chunk-element-plus.14de3114.js\n",
      "Downloaded /home/disk1/finance_quant/efinance/downloaded_files/lang.a0ea826d.js\n",
      "Downloaded /home/disk1/finance_quant/efinance/downloaded_files/build.0eb1f581.js\n",
      "Downloaded /home/disk1/finance_quant/efinance/downloaded_files/tenant.50ee810f.js\n",
      "Downloaded /home/disk1/finance_quant/efinance/downloaded_files/feedmap.95e5823c.js\n",
      "Downloaded /home/disk1/finance_quant/efinance/downloaded_files/templates.e97d783a.js\n",
      "Downloaded /home/disk1/finance_quant/efinance/downloaded_files/systemViews.a1893262.js\n",
      "Downloaded /home/disk1/finance_quant/efinance/downloaded_files/font_2621450_xf88uzwb7bg.js\n",
      "Downloaded /home/disk1/finance_quant/efinance/downloaded_files/View.vue_vue_type_script_setup_true_lang.46307638.js\n",
      "Downloaded /home/disk1/finance_quant/efinance/downloaded_files/Markets.2d0ca27a.js\n",
      "Downloaded /home/disk1/finance_quant/efinance/downloaded_files/index.7c33a29f.js\n",
      "Downloaded /home/disk1/finance_quant/efinance/downloaded_files/index.bdf59141.js\n"
     ]
    }
   ],
   "source": [
    "import os\n",
    "import json\n",
    "from selenium import webdriver\n",
    "from selenium.webdriver.chrome.options import Options\n",
    "from selenium.webdriver.support.ui import WebDriverWait\n",
    "from selenium.webdriver.support import expected_conditions as EC\n",
    "from selenium.webdriver.common.by import By\n",
    "\n",
    "# Directory to save the downloaded files\n",
    "download_dir = \"/home/disk1/finance_quant/efinance/downloaded_files\"\n",
    "os.makedirs(download_dir, exist_ok=True)\n",
    "\n",
    "# Initialize ChromeDriver\n",
    "options = Options()\n",
    "options.add_argument('--headless')\n",
    "options.add_argument('--no-sandbox')\n",
    "options.add_argument('--disable-dev-shm-usage')\n",
    "\n",
    "prefs = {\n",
    "    \"download.default_directory\": download_dir,\n",
    "    \"download.prompt_for_download\": False,\n",
    "    \"download.directory_upgrade\": True,\n",
    "    \"safebrowsing.enabled\": True\n",
    "}\n",
    "options.add_experimental_option(\"prefs\", prefs)\n",
    "\n",
    "# Enable logging\n",
    "options.set_capability('goog:loggingPrefs', {'performance': 'ALL'})\n",
    "\n",
    "driver = webdriver.Chrome(options=options)\n",
    "\n",
    "# Function to save downloaded file (if applicable)\n",
    "def save_file(url, content):\n",
    "    filename = os.path.join(download_dir, url.split('/')[-1])\n",
    "    with open(filename, 'wb') as f:\n",
    "        f.write(content.encode('utf-8'))\n",
    "    print(f\"Downloaded {filename}\")\n",
    "\n",
    "# Function to process performance logs\n",
    "def process_browser_logs_for_network_events(logs):\n",
    "    for entry in logs:\n",
    "        log = json.loads(entry['message'])['message']\n",
    "        if (\n",
    "            'Network.responseReceived' in log['method']\n",
    "            and 'params' in log\n",
    "            and 'response' in log['params']\n",
    "        ):\n",
    "            response = log['params']['response']\n",
    "            url = response['url']\n",
    "            if any(url.endswith(ext) for ext in ['.js', '.css', '.json']):\n",
    "                try:\n",
    "                    content = driver.execute_cdp_cmd('Network.getResponseBody', {'requestId': log['params']['requestId']})\n",
    "                    save_file(url, content['body'])\n",
    "                except Exception as e:\n",
    "                    print(f\"Error getting response body for {url}: {e}\")\n",
    "\n",
    "try:\n",
    "    # Enable network interception\n",
    "    driver.execute_cdp_cmd('Network.enable', {})\n",
    "\n",
    "    # Open a webpage\n",
    "    driver.get(\"https://longportapp.com/en/markets/\")\n",
    "\n",
    "    # Wait for page to load (adjust wait time and selector as needed)\n",
    "    WebDriverWait(driver, 10).until(EC.presence_of_element_located((By.ID, \"portal\")))\n",
    "\n",
    "    # Add a sleep to allow time for resources to be captured\n",
    "    import time\n",
    "    time.sleep(5)\n",
    "\n",
    "    # Retrieve and process performance logs\n",
    "    logs = driver.get_log('performance')\n",
    "    process_browser_logs_for_network_events(logs)\n",
    "\n",
    "finally:\n",
    "    # Quit the driver\n",
    "    driver.quit()"
   ]
  },
  {
   "cell_type": "code",
   "execution_count": 2,
   "metadata": {},
   "outputs": [
    {
     "ename": "ProxyServerError",
     "evalue": "Can't connect to Browsermob-Proxy",
     "output_type": "error",
     "traceback": [
      "\u001b[0;31m---------------------------------------------------------------------------\u001b[0m",
      "\u001b[0;31mProxyServerError\u001b[0m                          Traceback (most recent call last)",
      "Cell \u001b[0;32mIn[2], line 9\u001b[0m\n\u001b[1;32m      6\u001b[0m     \u001b[38;5;28mprint\u001b[39m(\u001b[38;5;124m\"\u001b[39m\u001b[38;5;124mError: Browsermob-Proxy binary not found at\u001b[39m\u001b[38;5;124m\"\u001b[39m, path_to_binary)\n\u001b[1;32m      8\u001b[0m server \u001b[38;5;241m=\u001b[39m Server(path_to_binary)\n\u001b[0;32m----> 9\u001b[0m \u001b[43mserver\u001b[49m\u001b[38;5;241;43m.\u001b[39;49m\u001b[43mstart\u001b[49m\u001b[43m(\u001b[49m\u001b[43m)\u001b[49m\n\u001b[1;32m     10\u001b[0m proxy \u001b[38;5;241m=\u001b[39m server\u001b[38;5;241m.\u001b[39mcreate_proxy()\n\u001b[1;32m     12\u001b[0m options \u001b[38;5;241m=\u001b[39m Options()\n",
      "File \u001b[0;32m/opt/openbb/lib/python3.9/site-packages/browsermobproxy/server.py:127\u001b[0m, in \u001b[0;36mServer.start\u001b[0;34m(self, options)\u001b[0m\n\u001b[1;32m    125\u001b[0m \u001b[38;5;28;01mif\u001b[39;00m count \u001b[38;5;241m==\u001b[39m retry_count:\n\u001b[1;32m    126\u001b[0m     \u001b[38;5;28mself\u001b[39m\u001b[38;5;241m.\u001b[39mstop()\n\u001b[0;32m--> 127\u001b[0m     \u001b[38;5;28;01mraise\u001b[39;00m ProxyServerError(\u001b[38;5;124m\"\u001b[39m\u001b[38;5;124mCan\u001b[39m\u001b[38;5;124m'\u001b[39m\u001b[38;5;124mt connect to Browsermob-Proxy\u001b[39m\u001b[38;5;124m\"\u001b[39m)\n",
      "\u001b[0;31mProxyServerError\u001b[0m: Can't connect to Browsermob-Proxy"
     ]
    }
   ],
   "source": [
    "# Start the BrowserMob Proxy server\n",
    "import os\n",
    "\n",
    "path_to_binary = \"/home/disk1/tools/browsermob-proxy-2.1.4/bin/browsermob-proxy\"\n",
    "if not os.path.exists(path_to_binary):\n",
    "    print(\"Error: Browsermob-Proxy binary not found at\", path_to_binary)\n",
    "\n",
    "server = Server(path_to_binary)\n",
    "server.start()\n",
    "proxy = server.create_proxy()\n",
    "\n",
    "options = Options()\n",
    "options.add_argument('--headless')\n",
    "options.add_argument('--no-sandbox')\n",
    "options.add_argument('--disable-dev-shm-usage')\n",
    "options.add_argument(f\"--proxy-server={proxy.proxy}\")\n",
    "driver = webdriver.Chrome(service=Service(ChromeDriverManager().install()), options=options)\n",
    "\n",
    "# Start capturing network traffic\n",
    "proxy.new_har(\"network_capture\")\n",
    "\n",
    "driver.get(\"https://longportapp.com/en/markets/\")\n",
    "\n",
    "# Perform actions as needed\n",
    "# For demonstration, we will just wait for a few seconds\n",
    "driver.implicitly_wait(10)\n",
    "\n",
    "# Get the HAR data (HTTP Archive)\n",
    "har_data = proxy.har\n",
    "\n",
    "# Stop the proxy server and browser\n",
    "driver.quit()\n",
    "server.stop()\n",
    "\n",
    "# Extract relevant data from HAR\n",
    "network_data = []\n",
    "for entry in har_data['log']['entries']:\n",
    "    request = entry['request']\n",
    "    response = entry['response']\n",
    "    network_data.append({\n",
    "        \"Name\": request['url'],\n",
    "        \"Status\": response['status'],\n",
    "        \"Type\": request['headers'][0]['value'] if request['headers'] else '',\n",
    "        \"Initiator\": entry['pageref']\n",
    "    })\n",
    "\n",
    "# Create a DataFrame\n",
    "df = pd.DataFrame(network_data)\n",
    "\n",
    "# Display the DataFrame\n",
    "display(df)\n"
   ]
  },
  {
   "cell_type": "markdown",
   "metadata": {},
   "source": [
    "driver.get_page"
   ]
  },
  {
   "cell_type": "code",
   "execution_count": 1,
   "metadata": {},
   "outputs": [
    {
     "ename": "NameError",
     "evalue": "name 'driver' is not defined",
     "output_type": "error",
     "traceback": [
      "\u001b[0;31m---------------------------------------------------------------------------\u001b[0m",
      "\u001b[0;31mNameError\u001b[0m                                 Traceback (most recent call last)",
      "Cell \u001b[0;32mIn[1], line 1\u001b[0m\n\u001b[0;32m----> 1\u001b[0m \u001b[43mdriver\u001b[49m\u001b[38;5;241m.\u001b[39mquit()\n",
      "\u001b[0;31mNameError\u001b[0m: name 'driver' is not defined"
     ]
    }
   ],
   "source": [
    "driver.quit()"
   ]
  }
 ],
 "metadata": {
  "kernelspec": {
   "display_name": "Python 3",
   "language": "python",
   "name": "python3"
  },
  "language_info": {
   "codemirror_mode": {
    "name": "ipython",
    "version": 3
   },
   "file_extension": ".py",
   "mimetype": "text/x-python",
   "name": "python",
   "nbconvert_exporter": "python",
   "pygments_lexer": "ipython3",
   "version": "3.9.5"
  }
 },
 "nbformat": 4,
 "nbformat_minor": 2
}
